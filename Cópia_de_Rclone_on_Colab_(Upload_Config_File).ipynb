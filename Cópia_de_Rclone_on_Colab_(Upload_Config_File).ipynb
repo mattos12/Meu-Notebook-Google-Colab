{
  "cells": [
    {
      "cell_type": "markdown",
      "metadata": {
        "id": "view-in-github",
        "colab_type": "text"
      },
      "source": [
        "<a href=\"https://colab.research.google.com/github/mattos12/Meu-Notebook-Google-Colab/blob/main/C%C3%B3pia_de_Rclone_on_Colab_(Upload_Config_File).ipynb\" target=\"_parent\"><img src=\"https://colab.research.google.com/assets/colab-badge.svg\" alt=\"Open In Colab\"/></a>"
      ]
    },
    {
      "cell_type": "markdown",
      "source": [
        "                                                      JESUS ESTÁ VOLTANDO!"
      ],
      "metadata": {
        "id": "HxHCLZW9ETDs"
      }
    },
    {
      "cell_type": "markdown",
      "metadata": {
        "id": "view-in-github"
      },
      "source": [
        "# <img src=\"https://1.bp.blogspot.com/-M5PLcSana6M/XgBHF7jUjiI/AAAAAAAAUzs/S24qhuijluwKlzIOnc2gntoI-U83ZsrJACLcBGAsYHQ/s1600/rclone_logo.png\" height=\"50\" alt=\"Rclone-Logo' \"/> **[Rclone on  Colab](https://github.com/eaustin6/Rclone-Setup-on-Google-Colab)</a>**\n",
        "</center></font> (Create/Delete/Edit Rclone config file/remote)\n"
      ]
    },
    {
      "cell_type": "markdown",
      "source": [
        "**First Download Required Files by Running the Below Code:**"
      ],
      "metadata": {
        "id": "7vbqfASX1jHx"
      }
    },
    {
      "cell_type": "code",
      "execution_count": null,
      "metadata": {
        "id": "DV4YNac9Au21",
        "cellView": "form"
      },
      "outputs": [],
      "source": [
        "#@markdown <br><img src=\"https://github.com/TheCaduceus/Torrent-to-GoogleDrive/blob/main/Img/80.png?raw=true\" height=\"50\" alt=\"Setup-Logo' \"/></center>\n",
        "# @markdown <font size=5> **Setup & Configure Environment** </font>\n",
        "print(\"Successfully Connected to Runtime!\")\n",
        "print(\"Download Request Initiated\")\n",
        "! curl https://rclone.org/install.sh | sudo bash\n",
        "print(\"Performing Check...\")\n",
        "print(\"Everything is Fine.\")"
      ]
    },
    {
      "cell_type": "code",
      "execution_count": null,
      "metadata": {
        "cellView": "form",
        "id": "G3rr1OuFRApD"
      },
      "outputs": [],
      "source": [
        "# ============================= FORM ============================= #\n",
        "# @markdown <font size=5> **Upload Configuration File** </font>\n",
        "# @markdown <p>ATENÇÃO! Faça o upload do arquivo de config uma vez e depois corra a célula seguinte e novamente esta célula pela seguanda vez, caso a célula seguinte de config não mostre as nuvens.</p>\n",
        "\n",
        "# @markdown ---\n",
        "MODE = \"RCONFIG\" # @param ['UTILS', 'RCONFIG', 'RCONFIG_append', \"GENERATELIST\"]\n",
        "REMOTE = \"mnc\" # @param {type:\"string\"}\n",
        "QUERY_PATTERN = \"\" # @param {type:\"string\"}\n",
        "# @markdown > <p><font size=2px>For those who are unable to upload local file: <a href=\"https://stackoverflow.com/a/58661947\">StackOverflow</a></font></p>\n",
        "# ================================================================ #\n",
        "\n",
        "from os import path as _p\n",
        "from IPython.display import HTML, clear_output\n",
        "\n",
        "if not _p.exists(\"/root/.ipython/mixlab.py\"):\n",
        "    from shlex import split as _spl\n",
        "    from subprocess import run  # nosec\n",
        "\n",
        "    shellCmd = \"wget -qq https://shirooo39.github.io/MiXLab/resources/mixlab.py \\\n",
        "                    -O /root/.ipython/mixlab.py\"\n",
        "    run(_spl(shellCmd))  # nosec\n",
        "\n",
        "import importlib, mixlab\n",
        "from google.colab import files  # pylint: disable=import-error #nosec\n",
        "from mixlab import checkAvailable, runSh, rcloneConfigurationPath, prepareSession\n",
        "\n",
        "\n",
        "def generateUploadList():\n",
        "    prepareSession()\n",
        "    if checkAvailable(\"/content/upload.txt\"):\n",
        "        runSh(\"rm -f upload.txt\")\n",
        "    runSh(\n",
        "        f\"rclone --config {rcloneConfigurationPath}/rclone.conf lsf {REMOTE}: --include '{QUERY_PATTERN}' --drive-shared-with-me --files-only --max-depth 1 > /content/upload.txt\",\n",
        "        shell=True,  # nosec\n",
        "    )\n",
        "\n",
        "\n",
        "def uploadLocalFiles():\n",
        "    prepareSession()\n",
        "    if MODE == \"UTILS\":\n",
        "        filePath = \"/root/.ipython/mixlab.py\"\n",
        "    elif MODE in (\"RCONFIG\", \"RCONFIG_append\"):\n",
        "        filePath = f\"{rcloneConfigurationPath}/rclone.conf\"\n",
        "    else:\n",
        "        pass\n",
        "\n",
        "    try:\n",
        "      if checkAvailable(filePath):\n",
        "        runSh(f\"rm -f {filePath}\")\n",
        "      display(HTML(\"<h2 style=\\\"font-family:Trebuchet MS;color:#4f8bd6;\\\">Upload rclone.conf from your local machine.</h2><br>\"))\n",
        "      uploadedFile = files.upload()\n",
        "      fileNameDictKeys = uploadedFile.keys()\n",
        "      fileNo = len(fileNameDictKeys)\n",
        "      if fileNo > 1:\n",
        "          for fn in fileNameDictKeys:\n",
        "              runSh(f'rm -f \"/content/{fn}\"')\n",
        "          return print(\"\\nOnly upload one configuration file!\")\n",
        "      elif fileNo == 0:\n",
        "          return print(\"\\nFile upload cancelled.\")\n",
        "      elif fileNo == 1:\n",
        "          for fn in fileNameDictKeys:\n",
        "              if checkAvailable(f\"/content/{fn}\"):\n",
        "                  if MODE == \"RCONFIG_append\":\n",
        "                    import urllib\n",
        "                    urllib.request.urlretrieve(\"https://shirooo39.github.io/MiXLab/resources/configurations/rclone/rclone.conf\",\n",
        "                                               \"/usr/local/sessionSettings/rclone.conf\")\n",
        "                    with open(f\"/content/{fn}\", 'r+') as r:\n",
        "                      new_data = r.read()\n",
        "                      runSh(f'rm -f \"/content/{fn}\"')\n",
        "                    with open(filePath, 'r+') as f:\n",
        "                      old_data = f.read()\n",
        "                      f.seek(0)\n",
        "                      f.truncate(0)\n",
        "                      f.write(old_data + new_data)\n",
        "                    print(\"\\nUpdate completed.\")\n",
        "                  else:\n",
        "                    runSh(f'mv -f \"/content/{fn}\" {filePath}')\n",
        "                    runSh(f\"chmod 666 {filePath}\")\n",
        "                    runSh(f'rm -f \"/content/{fn}\"')\n",
        "                    importlib.reload(mixlab)\n",
        "                    !rm /content/upload.txt\n",
        "                    clear_output()\n",
        "                    print(\"rclone.conf has been uploaded to Colab!\")\n",
        "              return\n",
        "      else:\n",
        "          print(\"\\nNo file is chosen!\")\n",
        "          return\n",
        "    except:\n",
        "      return print(\"\\nFailed to upload!\")\n",
        "\n",
        "\n",
        "if MODE == \"GENERATELIST\":\n",
        "    generateUploadList()\n",
        "else:\n",
        "    uploadLocalFiles()"
      ]
    },
    {
      "cell_type": "code",
      "execution_count": null,
      "metadata": {
        "id": "UdtGnf8hudAN",
        "cellView": "form"
      },
      "outputs": [],
      "source": [
        "#@markdown <br><img src=\"https://1.bp.blogspot.com/-M5PLcSana6M/XgBHF7jUjiI/AAAAAAAAUzs/S24qhuijluwKlzIOnc2gntoI-U83ZsrJACLcBGAsYHQ/s1600/rclone_logo.png\" height=\"50\" alt=\"Rclone-Logo' \"/></center>\n",
        "# @markdown <font size=5> **Create/Edit/Delete Rclone Config File** </font>\n",
        "print(\"Script by Dr.Caduceus\")\n",
        "!rclone config\n",
        "print(\"File Saved\")\n",
        "print(\"Initiating Download Request\")\n",
        "MODE = \"RCONFIG\"\n",
        "from google.colab import files\n",
        "\n",
        "def downloadFile():\n",
        "  if MODE == \"UTILS\":\n",
        "      filePath = \"/root/.ipython/rlab_utils.py\"\n",
        "  elif MODE == \"RCONFIG\":\n",
        "      filePath = f\"/root/.config/rclone/rclone.conf\"\n",
        "  else:\n",
        "      pass\n",
        "  try:\n",
        "    files.download(filePath)\n",
        "  except FileNotFoundError:\n",
        "    print(\"File not found!\")\n",
        "\n",
        "if __name__ == \"__main__\":\n",
        "  downloadFile()\n",
        "print(\"Accept Download Request\")"
      ]
    },
    {
      "cell_type": "markdown",
      "source": [
        "### **Advanced Task: Run Commands**"
      ],
      "metadata": {
        "id": "3-GPORzzZXPF"
      }
    },
    {
      "cell_type": "markdown",
      "source": [
        "**You can run any Rclone Command below after downloading its setup from above!<br>List of Commands:**\n",
        "```\n",
        "# Putting '!' before rclone is mandatory!\n",
        "---\n",
        "!rclone config - Enter an interactive configuration session.\n",
        "!rclone copy - Copy files from source to dest, skipping already copied.\n",
        "!rclone sync - Make source and dest identical, modifying destination only.\n",
        "!rclone move - Move files from source to dest.\n",
        "!rclone delete - Remove the contents of path.\n",
        "!rclone purge - Remove the path and all of its contents.\n",
        "!rclone mkdir - Make the path if it doesn't already exist.\n",
        "!rclone rmdir - Remove the path.\n",
        "!rclone rmdirs - Remove any empty directories under the path.\n",
        "!rclone check - Check if the files in the source and destination match.\n",
        "!rclone ls - List all the objects in the path with size and path.\n",
        "!rclone lsd - List all directories/containers/buckets in the path.\n",
        "!rclone lsl - List all the objects in the path with size, modification time and path.\n",
        "!rclone md5sum - Produce an md5sum file for all the objects in the path.\n",
        "!rclone sha1sum - Produce a sha1sum file for all the objects in the path.\n",
        "!rclone size - Return the total size and number of objects in remote:path.\n",
        "!rclone version - Show the version number.\n",
        "!rclone cleanup - Clean up the remote if possible.\n",
        "!rclone dedupe - Interactively find duplicate files and delete/rename them.\n",
        "!rclone authorize - Remote authorization.\n",
        "!rclone cat - Concatenate any files and send them to stdout.\n",
        "!rclone copyto - Copy files from source to dest, skipping already copied.\n",
        "!rclone genautocomplete - Output shell completion scripts for rclone.\n",
        "!rclone gendocs - Output markdown docs for rclone to the directory supplied.\n",
        "!rclone listremotes - List all the remotes in the config file.\n",
        "!rclone mount - Mount the remote as a mountpoint.\n",
        "!rclone moveto - Move file or directory from source to dest.\n",
        "!rclone obscure - Obscure password for use in the rclone.conf\n",
        "!rclone cryptcheck - Check the integrity of an encrypted remote.\n",
        "!rclone about - Get quota information from the remote.\n",
        "---\n",
        "```"
      ],
      "metadata": {
        "id": "FlNn7fXbWtHz"
      }
    },
    {
      "cell_type": "markdown",
      "source": [
        "**Write your Code Below:**"
      ],
      "metadata": {
        "id": "x6Dxey_8bGUJ"
      }
    },
    {
      "cell_type": "code",
      "source": [
        "#<--Write Code before #"
      ],
      "metadata": {
        "id": "k7N-XUplWuwF"
      },
      "execution_count": null,
      "outputs": []
    }
  ],
  "metadata": {
    "colab": {
      "provenance": [],
      "collapsed_sections": [
        "3-GPORzzZXPF"
      ],
      "toc_visible": true,
      "include_colab_link": true
    },
    "kernelspec": {
      "display_name": "Python 3",
      "name": "python3"
    },
    "language_info": {
      "name": "python"
    }
  },
  "nbformat": 4,
  "nbformat_minor": 0
}