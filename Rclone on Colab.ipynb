{
  "cells": [
    {
      "cell_type": "markdown",
      "metadata": {
        "id": "view-in-github",
        "colab_type": "text"
      },
      "source": [
        "<a href=\"https://colab.research.google.com/github/mattos12/Meu-Notebook-Google-Colab/blob/main/Rclone%20on%20Colab.ipynb\" target=\"_parent\"><img src=\"https://colab.research.google.com/assets/colab-badge.svg\" alt=\"Open In Colab\"/></a>"
      ]
    },
    {
      "cell_type": "markdown",
      "source": [
        "                                                      JESUS ESTÁ VOLTANDO!"
      ],
      "metadata": {
        "id": "HxHCLZW9ETDs"
      }
    },
    {
      "cell_type": "markdown",
      "metadata": {
        "id": "view-in-github"
      },
      "source": [
        "# <img src=\"https://1.bp.blogspot.com/-M5PLcSana6M/XgBHF7jUjiI/AAAAAAAAUzs/S24qhuijluwKlzIOnc2gntoI-U83ZsrJACLcBGAsYHQ/s1600/rclone_logo.png\" height=\"50\" alt=\"Rclone-Logo' \"/> **[Rclone on  Colab](https://github.com/eaustin6/Rclone-Setup-on-Google-Colab)</a>**</center></font> *(Create/Delete/Edit Rclone config file/remote)*\n"
      ]
    },
    {
      "cell_type": "markdown",
      "source": [
        "**First Download Required Files by Running the Below Code:**"
      ],
      "metadata": {
        "id": "7vbqfASX1jHx"
      }
    },
    {
      "cell_type": "code",
      "execution_count": null,
      "metadata": {
        "id": "DV4YNac9Au21",
        "cellView": "form"
      },
      "outputs": [],
      "source": [
        "#@markdown <br><img src=\"https://github.com/TheCaduceus/Torrent-to-GoogleDrive/blob/main/Img/80.png?raw=true\" height=\"50\" alt=\"Setup-Logo' \"/></center>\n",
        "# @markdown <font size=5> **Setup & Configure Environment** </font>\n",
        "print(\"Successfully Connected to Runtime!\")\n",
        "print(\"Download Request Initiated\")\n",
        "! curl https://rclone.org/install.sh | sudo bash\n",
        "print(\"Performing Check...\")\n",
        "print(\"Everything is Fine.\")"
      ]
    },
    {
      "cell_type": "code",
      "execution_count": null,
      "metadata": {
        "id": "UdtGnf8hudAN",
        "cellView": "form"
      },
      "outputs": [],
      "source": [
        "#@markdown <br><img src=\"https://1.bp.blogspot.com/-M5PLcSana6M/XgBHF7jUjiI/AAAAAAAAUzs/S24qhuijluwKlzIOnc2gntoI-U83ZsrJACLcBGAsYHQ/s1600/rclone_logo.png\" height=\"50\" alt=\"Rclone-Logo' \"/></center>\n",
        "# @markdown <font size=5> **Create/Edit/Delete Rclone Config File** </font>\n",
        "print(\"Script by Dr.Caduceus\")\n",
        "!rclone config\n",
        "print(\"File Saved\")\n",
        "print(\"Initiating Download Request\")\n",
        "MODE = \"RCONFIG\"\n",
        "from google.colab import files\n",
        "\n",
        "def downloadFile():\n",
        "  if MODE == \"UTILS\":\n",
        "      filePath = \"/root/.ipython/rlab_utils.py\"\n",
        "  elif MODE == \"RCONFIG\":\n",
        "      filePath = f\"/root/.config/rclone/rclone.conf\"\n",
        "  else:\n",
        "      pass\n",
        "  try:\n",
        "    files.download(filePath)\n",
        "  except FileNotFoundError:\n",
        "    print(\"File not found!\")\n",
        "\n",
        "if __name__ == \"__main__\":\n",
        "  downloadFile()\n",
        "print(\"Accept Download Request\")"
      ]
    },
    {
      "cell_type": "markdown",
      "source": [
        "## **Advanced Task: Run Commands**"
      ],
      "metadata": {
        "id": "3-GPORzzZXPF"
      }
    },
    {
      "cell_type": "markdown",
      "source": [
        "**You can run any Rclone Command below after downloading its setup from above!<br>List of Commands:**\n",
        "```\n",
        "# Putting '!' before rclone is mandatory!\n",
        "---\n",
        "!rclone config - Enter an interactive configuration session.\n",
        "!rclone copy - Copy files from source to dest, skipping already copied.\n",
        "!rclone sync - Make source and dest identical, modifying destination only.\n",
        "!rclone move - Move files from source to dest.\n",
        "!rclone delete - Remove the contents of path.\n",
        "!rclone purge - Remove the path and all of its contents.\n",
        "!rclone mkdir - Make the path if it doesn't already exist.\n",
        "!rclone rmdir - Remove the path.\n",
        "!rclone rmdirs - Remove any empty directories under the path.\n",
        "!rclone check - Check if the files in the source and destination match.\n",
        "!rclone ls - List all the objects in the path with size and path.\n",
        "!rclone lsd - List all directories/containers/buckets in the path.\n",
        "!rclone lsl - List all the objects in the path with size, modification time and path.\n",
        "!rclone md5sum - Produce an md5sum file for all the objects in the path.\n",
        "!rclone sha1sum - Produce a sha1sum file for all the objects in the path.\n",
        "!rclone size - Return the total size and number of objects in remote:path.\n",
        "!rclone version - Show the version number.\n",
        "!rclone cleanup - Clean up the remote if possible.\n",
        "!rclone dedupe - Interactively find duplicate files and delete/rename them.\n",
        "!rclone authorize - Remote authorization.\n",
        "!rclone cat - Concatenate any files and send them to stdout.\n",
        "!rclone copyto - Copy files from source to dest, skipping already copied.\n",
        "!rclone genautocomplete - Output shell completion scripts for rclone.\n",
        "!rclone gendocs - Output markdown docs for rclone to the directory supplied.\n",
        "!rclone listremotes - List all the remotes in the config file.\n",
        "!rclone mount - Mount the remote as a mountpoint.\n",
        "!rclone moveto - Move file or directory from source to dest.\n",
        "!rclone obscure - Obscure password for use in the rclone.conf\n",
        "!rclone cryptcheck - Check the integrity of an encrypted remote.\n",
        "!rclone about - Get quota information from the remote.\n",
        "---\n",
        "```"
      ],
      "metadata": {
        "id": "FlNn7fXbWtHz"
      }
    },
    {
      "cell_type": "markdown",
      "source": [
        "**Write your Code Below:**"
      ],
      "metadata": {
        "id": "x6Dxey_8bGUJ"
      }
    },
    {
      "cell_type": "code",
      "source": [
        "#<--Write Code before #"
      ],
      "metadata": {
        "id": "k7N-XUplWuwF"
      },
      "execution_count": null,
      "outputs": []
    }
  ],
  "metadata": {
    "colab": {
      "provenance": [],
      "collapsed_sections": [
        "3-GPORzzZXPF"
      ],
      "include_colab_link": true
    },
    "kernelspec": {
      "display_name": "Python 3",
      "name": "python3"
    },
    "language_info": {
      "name": "python"
    }
  },
  "nbformat": 4,
  "nbformat_minor": 0
}